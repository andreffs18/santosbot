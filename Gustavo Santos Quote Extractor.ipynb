{
 "metadata": {
  "name": "",
  "signature": "sha256:a7cd2975ec78dccd17a011b0e94ff641f14f8da050d3376e0ae44388feae3105"
 },
 "nbformat": 3,
 "nbformat_minor": 0,
 "worksheets": [
  {
   "cells": [
    {
     "cell_type": "code",
     "collapsed": false,
     "input": [
      "import bs4\n",
      "import requests\n",
      "\n",
      "url = \"http://www.citador.pt/frases/citacoes/a/gustavo-santos/{}\""
     ],
     "language": "python",
     "metadata": {},
     "outputs": [],
     "prompt_number": 88
    },
    {
     "cell_type": "markdown",
     "metadata": {},
     "source": [
      "### Build dump of data\n",
      "\n",
      "From given url, find all ```<div class=\"panel panel-default\"></div>``` \n",
      "blocks and extract each **Title** and **Quote**, which we are describing \n",
      "as **tag** and **body**. \n",
      "\n",
      "Then, save triplet with (counter, tag (lowercase), body)."
     ]
    },
    {
     "cell_type": "code",
     "collapsed": false,
     "input": [
      "quotes_dump = list()\n",
      "for counter, i in enumerate(range(1, 200, 10)):\n",
      "    # get content from generated Url\n",
      "    print(\"Request url \\\"{}\\\"\".format(url.format(i)))\n",
      "    response = requests.get(url.format(i))\n",
      "    if not str(response.status_code).startswith(\"2\"):\n",
      "        continue\n",
      "    \n",
      "    # get tag and body content\n",
      "    soup = bs4.BeautifulSoup(response.text)\n",
      "    divs = soup.findAll('div', {'class': \"panel panel-default\"})\n",
      "    for div in divs:\n",
      "        tag = div.find('div', {'class': 'panel-heading'}).text.strip()\n",
      "        body = div.find('div', {'class': 'panel-body'}).findAll('div')[0].text.strip()\n",
      "        quotes_dump.append((counter, tag.lower(), body))"
     ],
     "language": "python",
     "metadata": {},
     "outputs": [
      {
       "output_type": "stream",
       "stream": "stdout",
       "text": [
        "Request url \"http://www.citador.pt/frases/citacoes/a/gustavo-santos/1\"\n",
        "Request url \"http://www.citador.pt/frases/citacoes/a/gustavo-santos/11\""
       ]
      },
      {
       "output_type": "stream",
       "stream": "stdout",
       "text": [
        "\n",
        "Request url \"http://www.citador.pt/frases/citacoes/a/gustavo-santos/21\""
       ]
      },
      {
       "output_type": "stream",
       "stream": "stdout",
       "text": [
        "\n",
        "Request url \"http://www.citador.pt/frases/citacoes/a/gustavo-santos/31\""
       ]
      },
      {
       "output_type": "stream",
       "stream": "stdout",
       "text": [
        "\n",
        "Request url \"http://www.citador.pt/frases/citacoes/a/gustavo-santos/41\""
       ]
      },
      {
       "output_type": "stream",
       "stream": "stdout",
       "text": [
        "\n",
        "Request url \"http://www.citador.pt/frases/citacoes/a/gustavo-santos/51\""
       ]
      },
      {
       "output_type": "stream",
       "stream": "stdout",
       "text": [
        "\n",
        "Request url \"http://www.citador.pt/frases/citacoes/a/gustavo-santos/61\""
       ]
      },
      {
       "output_type": "stream",
       "stream": "stdout",
       "text": [
        "\n",
        "Request url \"http://www.citador.pt/frases/citacoes/a/gustavo-santos/71\""
       ]
      },
      {
       "output_type": "stream",
       "stream": "stdout",
       "text": [
        "\n",
        "Request url \"http://www.citador.pt/frases/citacoes/a/gustavo-santos/81\""
       ]
      },
      {
       "output_type": "stream",
       "stream": "stdout",
       "text": [
        "\n",
        "Request url \"http://www.citador.pt/frases/citacoes/a/gustavo-santos/91\""
       ]
      },
      {
       "output_type": "stream",
       "stream": "stdout",
       "text": [
        "\n",
        "Request url \"http://www.citador.pt/frases/citacoes/a/gustavo-santos/101\""
       ]
      },
      {
       "output_type": "stream",
       "stream": "stdout",
       "text": [
        "\n",
        "Request url \"http://www.citador.pt/frases/citacoes/a/gustavo-santos/111\""
       ]
      },
      {
       "output_type": "stream",
       "stream": "stdout",
       "text": [
        "\n",
        "Request url \"http://www.citador.pt/frases/citacoes/a/gustavo-santos/121\""
       ]
      },
      {
       "output_type": "stream",
       "stream": "stdout",
       "text": [
        "\n",
        "Request url \"http://www.citador.pt/frases/citacoes/a/gustavo-santos/131\""
       ]
      },
      {
       "output_type": "stream",
       "stream": "stdout",
       "text": [
        "\n",
        "Request url \"http://www.citador.pt/frases/citacoes/a/gustavo-santos/141\""
       ]
      },
      {
       "output_type": "stream",
       "stream": "stdout",
       "text": [
        "\n",
        "Request url \"http://www.citador.pt/frases/citacoes/a/gustavo-santos/151\""
       ]
      },
      {
       "output_type": "stream",
       "stream": "stdout",
       "text": [
        "\n",
        "Request url \"http://www.citador.pt/frases/citacoes/a/gustavo-santos/161\""
       ]
      },
      {
       "output_type": "stream",
       "stream": "stdout",
       "text": [
        "\n",
        "Request url \"http://www.citador.pt/frases/citacoes/a/gustavo-santos/171\""
       ]
      },
      {
       "output_type": "stream",
       "stream": "stdout",
       "text": [
        "\n",
        "Request url \"http://www.citador.pt/frases/citacoes/a/gustavo-santos/181\""
       ]
      },
      {
       "output_type": "stream",
       "stream": "stdout",
       "text": [
        "\n",
        "Request url \"http://www.citador.pt/frases/citacoes/a/gustavo-santos/191\""
       ]
      },
      {
       "output_type": "stream",
       "stream": "stdout",
       "text": [
        "\n"
       ]
      }
     ],
     "prompt_number": 100
    },
    {
     "cell_type": "markdown",
     "metadata": {},
     "source": [
      "### Extract Trigger Words\n",
      "\n",
      "Generate dictionary of trigger words from all **tags** that were \n",
      "found but remove repeated body if they even exist"
     ]
    },
    {
     "cell_type": "code",
     "collapsed": false,
     "input": [
      "trigger_words = dict((tag[1], {'quotes': [], 'last_used_at': None}) for tag in quotes_dump)\n",
      "for counter, tag, body in quotes_dump:\n",
      "    updated_quotes = trigger_words[tag]['quotes']\n",
      "    updated_quotes.append(counter)\n",
      "    updated_quotes = list(set(updated_quotes))\n",
      "    trigger_words[tag]['quotes'] = updated_quotes"
     ],
     "language": "python",
     "metadata": {},
     "outputs": [],
     "prompt_number": 101
    }
   ],
   "metadata": {}
  }
 ]
}